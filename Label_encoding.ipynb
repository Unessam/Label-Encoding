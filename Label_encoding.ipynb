{
 "cells": [
  {
   "cell_type": "code",
   "execution_count": 1,
   "metadata": {},
   "outputs": [],
   "source": [
    "#import primary libraries\n",
    "import pandas as pd\n",
    "import numpy as np\n",
    "import warnings\n",
    "warnings.filterwarnings('ignore')"
   ]
  },
  {
   "cell_type": "code",
   "execution_count": 2,
   "metadata": {},
   "outputs": [],
   "source": [
    "#label-encoding (ordinal encoding using values of another feature)\n",
    "def lab_encoder(train_frame, test_frame, feature, order, func):\n",
    "    ordering = pd.DataFrame()\n",
    "    ordering['val'] = train_frame[feature].unique()\n",
    "    ordering.index = ordering.val\n",
    "    ordering['Avg'] = train_frame[[feature, order]].groupby(feature).agg({order:func})\n",
    "    ordering = ordering.sort_values('Avg')\n",
    "    ordering['ordering'] = range(1, ordering.shape[0]+1)\n",
    "    ordering = ordering['ordering'].to_dict()\n",
    "    print(feature+'_lab :',ordering,'\\n')\n",
    "    \n",
    "    for cat, cat_order in ordering.items():\n",
    "        train_frame.loc[train_frame[feature] == cat, feature+'_lab'] = cat_order\n",
    "        test_frame.loc[test_frame[feature] == cat, feature+'_lab'] = cat_order\n",
    "    # or >>>> frame[feature+'_E']=frame[feature].map(ordering)"
   ]
  }
 ],
 "metadata": {
  "kernelspec": {
   "display_name": "Python 3",
   "language": "python",
   "name": "python3"
  },
  "language_info": {
   "codemirror_mode": {
    "name": "ipython",
    "version": 3
   },
   "file_extension": ".py",
   "mimetype": "text/x-python",
   "name": "python",
   "nbconvert_exporter": "python",
   "pygments_lexer": "ipython3",
   "version": "3.7.6"
  }
 },
 "nbformat": 4,
 "nbformat_minor": 4
}
